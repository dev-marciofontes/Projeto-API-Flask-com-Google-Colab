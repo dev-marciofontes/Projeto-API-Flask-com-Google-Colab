{
  "cells": [
    {
      "cell_type": "markdown",
      "source": [
        "# Projeto API Flask usando o Google Colab\n",
        "Este projeto é uma aventura divertida no mundo da programação! Aqui, estamos criando uma API maluquinha utilizando o Flask e o FastAPI no COLAB. O nosso objetivo é trazer à vida os dados dos nossos personagens de jogos favoritos e compartilhá-los em grande estilo!\n",
        "\n",
        "Primeiro, pegamos uma planilha de dados super secreta, onde cada linha representa um personagem incrível. Eles têm nomes épicos como Geralt, Ezio, Kratos, Lara e Sonic. Cada personagem tem informações importantes, como idade, cidade e país dentro do jogo.\n",
        "\n",
        "Usando a magia do Flask, criamos um servidor que responde quando digitamos o comando mágico \"/index\" no navegador. Nesse momento, ele mergulha fundo na planilha de dados, lê todas as informações e as transforma em um formato incrível chamado JSON.\n",
        "\n",
        "Agora, nossos dados estão prontos para serem exibidos! Basta visitar o URL público que geramos com a ajuda do ngrok. Lá, você encontrará uma lista de personagens com todos os detalhes emocionantes: seus nomes poderosos, idades audaciosas, cidades misteriosas e países extraordinários!\n",
        "\n",
        "Este projeto é uma maneira divertida de mostrar como podemos transformar dados em algo emocionante e interativo. Então, prepare-se para mergulhar no mundo dos personagens de jogos e descobrir seus segredos ocultos através dessa incrível API!"
      ],
      "metadata": {
        "id": "p1OykmPYB40b"
      }
    },
    {
      "cell_type": "markdown",
      "source": [
        "### Instalando as dependências necessárias para o projeto"
      ],
      "metadata": {
        "id": "FZaAebryCkF4"
      }
    },
    {
      "cell_type": "code",
      "execution_count": null,
      "metadata": {
        "id": "2hXOwZw09b2S"
      },
      "outputs": [],
      "source": [
        "!pip install flask\n",
        "!pip install flask-ngrok\n",
        "!pip install fastapi nest-asyncio pyngrok uvicorn"
      ]
    },
    {
      "cell_type": "markdown",
      "source": [
        "### Faça o download da planilhar no link abaixo e depois faça o upload dela para dentro do seu colab\n",
        "\n",
        "[Download Planilha Personagens](https://drive.google.com/file/d/1DvnEVcOSuhT3Aff5aD3XZ5TNx31E0icX/view?usp=sharing)"
      ],
      "metadata": {
        "id": "rqcZA1bPE250"
      }
    },
    {
      "cell_type": "markdown",
      "source": [
        "### Fazendo as importações para podermos executar o código"
      ],
      "metadata": {
        "id": "jVGRtGe4Ct2_"
      }
    },
    {
      "cell_type": "code",
      "execution_count": 33,
      "metadata": {
        "id": "gd4BQZgY-Pod"
      },
      "outputs": [],
      "source": [
        "from fastapi import FastAPI\n",
        "import nest_asyncio\n",
        "from pyngrok import ngrok\n",
        "import uvicorn\n",
        "import pandas as pd"
      ]
    },
    {
      "cell_type": "markdown",
      "source": [
        "### Carregando os personagens de jogos a partir de um arquivo CSV"
      ],
      "metadata": {
        "id": "Tezs7sawDU8K"
      }
    },
    {
      "cell_type": "code",
      "source": [
        "app = FastAPI()\n",
        "\n",
        "@app.get('/index')\n",
        "async def home():\n",
        "    df = pd.read_csv('personagens.csv', sep=';')\n",
        "\n",
        "    data = df.to_dict(orient='records')\n",
        "\n",
        "    return data"
      ],
      "metadata": {
        "id": "a7LcZIqE7bG4"
      },
      "execution_count": 34,
      "outputs": []
    },
    {
      "cell_type": "markdown",
      "source": [
        "### Colocando nosso servidor para rodar"
      ],
      "metadata": {
        "id": "VsjW0GvIDYSH"
      }
    },
    {
      "cell_type": "code",
      "source": [
        "ngrok_tunnel = ngrok.connect(8000)\n",
        "print('Public URL:', ngrok_tunnel.public_url)\n",
        "nest_asyncio.apply()\n",
        "uvicorn.run(app, port=8000)"
      ],
      "metadata": {
        "id": "TEEcj59wAwfu"
      },
      "execution_count": null,
      "outputs": []
    }
  ],
  "metadata": {
    "colab": {
      "provenance": []
    },
    "kernelspec": {
      "display_name": "Python 3",
      "name": "python3"
    },
    "language_info": {
      "name": "python"
    }
  },
  "nbformat": 4,
  "nbformat_minor": 0
}